{
 "cells": [
  {
   "cell_type": "markdown",
   "metadata": {},
   "source": [
    "# Take input from user and show his/her gross salary , age and retirement year"
   ]
  },
  {
   "cell_type": "code",
   "execution_count": 3,
   "metadata": {},
   "outputs": [
    {
     "name": "stdout",
     "output_type": "stream",
     "text": [
      "*********Employee data*********\n",
      "Your position in your firm: manaGer\n",
      "Enter your current age in numbers: 25\n",
      "Enter your gross salary: 5000\n",
      "Enter your year of joining: 2018\n",
      "Congratulation! your incremented salary is:  5500.0\n",
      "Your age is :  25 Your retirement year is:  2078\n"
     ]
    }
   ],
   "source": [
    "print(\"*********Employee data*********\")\n",
    "EmployeePosition = input(\"Your position in your firm: \").lower()\n",
    "Age = int(input(\"Enter your current age in numbers: \"))\n",
    "Salary = float(input(\"Enter your gross salary: \"))\n",
    "DateOfJoining = int(input(\"Enter your year of joining: \"))\n",
    "\n",
    "RetirementYear = DateOfJoining + 60\n",
    "\n",
    "if EmployeePosition == \"executive\":\n",
    "    \n",
    "    Salary = Salary + (Salary/100) *10    \n",
    "    print(\"Congratulation! your incremented salary is: \", Salary)\n",
    "    print(\"Your age is : \",Age,\"Your retirement year is: \",RetirementYear)\n",
    "elif EmployeePosition == \"manager\":\n",
    "    \n",
    "    Salary = Salary + (Salary/100) *10\n",
    "    print(\"Congratulation! your incremented salary is: \", Salary)\n",
    "    print(\"Your age is : \",Age,\"Your retirement year is: \",RetirementYear)\n",
    "elif EmployeePosition == \"junior\":\n",
    "    \n",
    "    Salary = Salary + (Salary/100) *5\n",
    "    print(\"Congratulation! your incremented salary is: \", Salary)\n",
    "    print(\"Your age is : \",Age,\"Your retirement year is: \",RetirementYear)\n",
    "\n",
    "\n",
    "    \n",
    "    \n",
    "        \n",
    "    "
   ]
  },
  {
   "cell_type": "markdown",
   "metadata": {},
   "source": [
    "# Factorial program through recursion"
   ]
  },
  {
   "cell_type": "code",
   "execution_count": 7,
   "metadata": {},
   "outputs": [
    {
     "name": "stdout",
     "output_type": "stream",
     "text": [
      "Enter number to calculate factorial: 0\n",
      "1\n"
     ]
    }
   ],
   "source": [
    "def factorialRecursion(number):\n",
    "    if number == 0:\n",
    "        return 1\n",
    "    else:\n",
    "        return number * factorialRecursion(number - 1)\n",
    "number = int(input(\"Enter number to calculate factorial: \"))\n",
    "print (factorialRecursion(number))"
   ]
  },
  {
   "cell_type": "markdown",
   "metadata": {},
   "source": [
    "# Fibonacci series through recursion"
   ]
  },
  {
   "cell_type": "code",
   "execution_count": 11,
   "metadata": {},
   "outputs": [
    {
     "name": "stdout",
     "output_type": "stream",
     "text": [
      "Enter number of terms you required: 8\n",
      "Fibonacci series are as under: \n",
      "0 1 1 2 3 5 8 13 "
     ]
    }
   ],
   "source": [
    "def fibonacciRecursion(number):\n",
    "    if number<= 1:\n",
    "        return number\n",
    "    else:\n",
    "        return fibonacciRecursion(number-1)+fibonacciRecursion(number-2)\n",
    "numOfTerms = int(input(\"Enter number of terms you required: \"))\n",
    "if numOfTerms <= 0:\n",
    "    print(\"Input positive number of terms\")\n",
    "else:\n",
    "    print(\"Fibonacci series are as under: \")\n",
    "    for i in range(numOfTerms):\n",
    "        print(fibonacciRecursion(i),end =\" \")"
   ]
  },
  {
   "cell_type": "code",
   "execution_count": null,
   "metadata": {},
   "outputs": [],
   "source": []
  }
 ],
 "metadata": {
  "kernelspec": {
   "display_name": "Python 3",
   "language": "python",
   "name": "python3"
  },
  "language_info": {
   "codemirror_mode": {
    "name": "ipython",
    "version": 3
   },
   "file_extension": ".py",
   "mimetype": "text/x-python",
   "name": "python",
   "nbconvert_exporter": "python",
   "pygments_lexer": "ipython3",
   "version": "3.8.5"
  }
 },
 "nbformat": 4,
 "nbformat_minor": 4
}
